{
 "cells": [
  {
   "cell_type": "markdown",
   "metadata": {},
   "source": [
    "# Deep Learning for Computer Vision:  HW 4"
   ]
  },
  {
   "cell_type": "markdown",
   "metadata": {},
   "source": [
    "## Computer Science: COMS W 4995 004"
   ]
  },
  {
   "cell_type": "markdown",
   "metadata": {},
   "source": [
    "### Due: November 2, 2020\n",
    "\n",
    "### Problem"
   ]
  },
  {
   "cell_type": "markdown",
   "metadata": {},
   "source": [
    "In this notebook we provide three networks for classifying handwritten digits from the MNIST dataset. The networks are implemented and tested using the Tensorflow framework. The third and final network is a convolutional neural network (CNN aka ConvNet) which achieves 99.18% accuracy on this dataset. \n",
    "\n",
    "Your task is to re-implement all three networks using Pytorch. You will likely find several Pytorch implementations on the internet. It is ok to study these. However, you must not cut and paste this code into your assignment--you must write this yourself. Furthermore, you need to comment every line of code and succintly explain what it is doing! \n",
    "\n",
    "Here is what is required:\n",
    "\n",
    "a) A FULLY commented re-implementation of the networks below using Pytorch.\n",
    "\n",
    "b) your network trained on the same MNIST data as used here.\n",
    "\n",
    "c) an evaluation of the accuracy on the MNIST test set.\n",
    "\n",
    "d) plots of 10 randomly selected digits from the test set along with the correct label and the assigned label.\n",
    "\n",
    "e) have your training record a log of the validation loss and validation accuracy. \n",
    "\n",
    "f) have your training continually save the best model so far (as determined by the validation loss).\n",
    "\n",
    "g) after training, load the saved weights using the best model so far. re-run you accuracy evaluation using these saved weights.\n",
    "\n",
    "Below we include the Tensorflow examples shown in class."
   ]
  },
  {
   "cell_type": "markdown",
   "metadata": {},
   "source": [
    "### A Simple Convolutional Neural Network in Tensorflow"
   ]
  },
  {
   "cell_type": "markdown",
   "metadata": {},
   "source": [
    "This notebook covers a python and tensorflow-based solution to the handwritten digits recognition problem. It is based on tensorflow tutorials and Yann LeCun's early work on CNN's. This toturial compares a simple softmax regressor, a multi-layer perceptron (MLP), and a simple convolutional neural network (CNN)."
   ]
  },
  {
   "cell_type": "markdown",
   "metadata": {},
   "source": [
    "Load in the MNIST digit dataset directly from tensorflow examples."
   ]
  },
  {
   "cell_type": "code",
   "execution_count": null,
   "metadata": {},
   "outputs": [],
   "source": [
    "from tensorflow.examples.tutorials.mnist import input_data\n",
    "mnist = input_data.read_data_sets('MNIST_data', one_hot=True)"
   ]
  },
  {
   "cell_type": "markdown",
   "metadata": {},
   "source": [
    "The MNIST data is split into three parts: 55,000 data points of training data (mnist.train), 10,000 points of test data (mnist.test), and 5,000 points of validation data (mnist.validation). "
   ]
  },
  {
   "cell_type": "markdown",
   "metadata": {},
   "source": [
    "Let's import tensorflow and begin an interactive session."
   ]
  },
  {
   "cell_type": "code",
   "execution_count": null,
   "metadata": {},
   "outputs": [],
   "source": [
    "import tensorflow as tf\n",
    "sess = tf.InteractiveSession()"
   ]
  },
  {
   "cell_type": "markdown",
   "metadata": {},
   "source": [
    "## Softmax Regression Model on the MNIST Digits Data"
   ]
  },
  {
   "cell_type": "markdown",
   "metadata": {},
   "source": [
    "We need to create placeholders for the data. Data will be dumped here when it is batched from the MNIST dataset."
   ]
  },
  {
   "cell_type": "code",
   "execution_count": null,
   "metadata": {},
   "outputs": [],
   "source": [
    "x = tf.placeholder(tf.float32, shape=[None, 784])\n",
    "y_ = tf.placeholder(tf.float32, shape=[None, 10])"
   ]
  },
  {
   "cell_type": "markdown",
   "metadata": {},
   "source": [
    "Now let's see what this data looks like."
   ]
  },
  {
   "cell_type": "code",
   "execution_count": null,
   "metadata": {},
   "outputs": [],
   "source": [
    "import matplotlib.pyplot as plt\n",
    "import numpy as np\n",
    "\n",
    "for i in range(4):\n",
    "    batch = mnist.test.next_batch(1)\n",
    "    image = np.asarray(batch[0]).reshape((28, 28))\n",
    "    label = batch[1]\n",
    "    \n",
    "    plt.imshow(image)\n",
    "    plt.axis(\"off\")\n",
    "    plt.show()"
   ]
  },
  {
   "cell_type": "markdown",
   "metadata": {},
   "source": [
    "We are first going to do softmax logistic regression. This is a linear layer followed by softmax. Note there are NO hidden layers here. Also note that the digit images (28x28 grayscale images) are reshaped into a 784 element vector. "
   ]
  },
  {
   "cell_type": "markdown",
   "metadata": {},
   "source": [
    "Below we create the parameters (weights) for our linear layer."
   ]
  },
  {
   "cell_type": "code",
   "execution_count": null,
   "metadata": {},
   "outputs": [],
   "source": [
    "W = tf.Variable(tf.zeros([784,10]))\n",
    "b = tf.Variable(tf.zeros([10]))"
   ]
  },
  {
   "cell_type": "markdown",
   "metadata": {},
   "source": [
    "We then use tensorflows initializer to initialize these weights."
   ]
  },
  {
   "cell_type": "code",
   "execution_count": null,
   "metadata": {},
   "outputs": [],
   "source": [
    "sess.run(tf.global_variables_initializer())"
   ]
  },
  {
   "cell_type": "markdown",
   "metadata": {},
   "source": [
    "We create our linear layer as a function of the input and the weights."
   ]
  },
  {
   "cell_type": "code",
   "execution_count": null,
   "metadata": {},
   "outputs": [],
   "source": [
    "y_regressor = tf.matmul(x,W) + b"
   ]
  },
  {
   "cell_type": "markdown",
   "metadata": {},
   "source": [
    "Below we create our loss function. Note that the cross entropy is $ H_{\\hat{y}}(y) = -\\sum_i \\hat{y}_{i} \\, \\log(y_{i})$ where $\\hat{y}$ is the true probability distribution and is expressed as a one-hot vector, $y$ is the estimated probability distribution, and $i$ indexes elements of these two vectors. Also note that this reduces to $ H_{\\hat{y}}(y) = -\\, \\log(y_{i^*})$ where $i^*$ is the correct label. And if we sum this over all of our samples indexed by $j$, then $H_{\\hat{y}}(y) = -\\sum_j  \\log(y^{(j)}_{i^*})$. This is precisely the same loss function as we used before, but we called the MLE loss. They are one and the same."
   ]
  },
  {
   "cell_type": "code",
   "execution_count": null,
   "metadata": {},
   "outputs": [],
   "source": [
    "cross_entropy = tf.reduce_mean(\n",
    "    tf.nn.softmax_cross_entropy_with_logits(labels=y_, logits=y_regressor))"
   ]
  },
  {
   "cell_type": "markdown",
   "metadata": {},
   "source": [
    "Now we tell tf to use gradient descent with a step size of 0.5 and to minimize the cross entropy."
   ]
  },
  {
   "cell_type": "code",
   "execution_count": null,
   "metadata": {},
   "outputs": [],
   "source": [
    "train_step = tf.train.GradientDescentOptimizer(0.5).minimize(cross_entropy)"
   ]
  },
  {
   "cell_type": "markdown",
   "metadata": {},
   "source": [
    "We train by grabbing mini-batches with 100 samples each and pushing these through the network to update our weights (W and b)."
   ]
  },
  {
   "cell_type": "code",
   "execution_count": null,
   "metadata": {},
   "outputs": [],
   "source": [
    "for _ in range(1000):\n",
    "  batch = mnist.train.next_batch(100)\n",
    "  train_step.run(feed_dict={x: batch[0], y_: batch[1]})"
   ]
  },
  {
   "cell_type": "markdown",
   "metadata": {},
   "source": [
    "We define how to compute correct predicitions."
   ]
  },
  {
   "cell_type": "code",
   "execution_count": null,
   "metadata": {},
   "outputs": [],
   "source": [
    "correct_prediction = tf.equal(tf.argmax(y_regressor,1), tf.argmax(y_,1))"
   ]
  },
  {
   "cell_type": "markdown",
   "metadata": {},
   "source": [
    "And from these correct predictions how to compute the accuracy."
   ]
  },
  {
   "cell_type": "code",
   "execution_count": null,
   "metadata": {},
   "outputs": [],
   "source": [
    "accuracy = tf.reduce_mean(tf.cast(correct_prediction, tf.float32))"
   ]
  },
  {
   "cell_type": "code",
   "execution_count": null,
   "metadata": {},
   "outputs": [],
   "source": [
    "print(accuracy.eval(feed_dict={x: mnist.test.images, y_: mnist.test.labels}))"
   ]
  },
  {
   "cell_type": "markdown",
   "metadata": {},
   "source": [
    "Let's print out some test images and the corresponsing predictions made by the network. But first, let's add an output to the computation graph that computes the softmax probabilities."
   ]
  },
  {
   "cell_type": "code",
   "execution_count": null,
   "metadata": {},
   "outputs": [],
   "source": [
    "y_probs_regressor = tf.nn.softmax(logits=y_regressor, name=None)"
   ]
  },
  {
   "cell_type": "code",
   "execution_count": null,
   "metadata": {
    "scrolled": false
   },
   "outputs": [],
   "source": [
    "for i in range(5):\n",
    "    batch = mnist.test.next_batch(1)\n",
    "    image = np.asarray(batch[0]).reshape((28, 28))\n",
    "    label = batch[1]\n",
    "    \n",
    "    plt.imshow(image)\n",
    "    plt.axis(\"off\")\n",
    "    plt.show()\n",
    "    print(\"Label = \", label)\n",
    "    print(\"Class probabilities = \", y_probs_regressor.eval(feed_dict={\n",
    "        x: batch[0], y_: batch[1]}))"
   ]
  },
  {
   "cell_type": "markdown",
   "metadata": {},
   "source": [
    "## Softmax Multi-Layer Perceptron on the MNIST Digits Data"
   ]
  },
  {
   "cell_type": "markdown",
   "metadata": {},
   "source": [
    "Here we define both weight and bias variables and how they are to be initialized. Note that the weights are are distributed according to a standard normal distribution (mean = 0, std = 0.1). This random initialization helps avoid hidden units get stuck together, as units that start with the same value will be updated identically in the non-convolutional layers. In contrast, the bias variables are set to a small positive number--this is help prevent hidden units from starting out and getting stuck in the zero part of the ReLU. "
   ]
  },
  {
   "cell_type": "code",
   "execution_count": null,
   "metadata": {},
   "outputs": [],
   "source": [
    "def weight_variable(shape):\n",
    "  initial = tf.truncated_normal(shape, stddev=0.1)\n",
    "  return tf.Variable(initial)\n",
    "\n",
    "def bias_variable(shape):\n",
    "  initial = tf.constant(0.1, shape=shape)\n",
    "  return tf.Variable(initial)"
   ]
  },
  {
   "cell_type": "markdown",
   "metadata": {},
   "source": [
    "Next we create placeholders for the training data."
   ]
  },
  {
   "cell_type": "code",
   "execution_count": null,
   "metadata": {},
   "outputs": [],
   "source": [
    "x = tf.placeholder(tf.float32, shape=[None, 784])\n",
    "y_ = tf.placeholder(tf.float32, shape=[None, 10])"
   ]
  },
  {
   "cell_type": "markdown",
   "metadata": {},
   "source": [
    "We create the first and only fully connected hidden layer."
   ]
  },
  {
   "cell_type": "code",
   "execution_count": null,
   "metadata": {},
   "outputs": [],
   "source": [
    "W_h = weight_variable([784, 512])\n",
    "b_h = bias_variable([512])\n",
    "h = tf.nn.relu(tf.matmul(x, W_h) + b_h)"
   ]
  },
  {
   "cell_type": "markdown",
   "metadata": {},
   "source": [
    "We create the output layer."
   ]
  },
  {
   "cell_type": "code",
   "execution_count": null,
   "metadata": {},
   "outputs": [],
   "source": [
    "W_out = weight_variable([512, 10])\n",
    "b_out = bias_variable([10])\n",
    "y_MLP = tf.matmul(h, W_out) + b_out"
   ]
  },
  {
   "cell_type": "markdown",
   "metadata": {},
   "source": [
    "We again use cross entropy loss on a softmax distribution on the outputs."
   ]
  },
  {
   "cell_type": "code",
   "execution_count": null,
   "metadata": {},
   "outputs": [],
   "source": [
    "cross_entropy = tf.reduce_mean(\n",
    "    tf.nn.softmax_cross_entropy_with_logits(labels=y_, logits=y_MLP))"
   ]
  },
  {
   "cell_type": "markdown",
   "metadata": {},
   "source": [
    "For training we choose an Adam learning rate and update rule. We then run this for 20,000 iterations and evaluate our accuracy after training. Note this softmax MLP network does quite a bit bettter than our softmax regressor. The non-linear layer really helps makes sense of the data! But we can do better still..."
   ]
  },
  {
   "cell_type": "code",
   "execution_count": null,
   "metadata": {
    "scrolled": false
   },
   "outputs": [],
   "source": [
    "train_step = tf.train.AdamOptimizer(1e-4).minimize(cross_entropy)\n",
    "correct_prediction = tf.equal(tf.argmax(y_MLP,1), tf.argmax(y_,1))\n",
    "accuracy = tf.reduce_mean(tf.cast(correct_prediction, tf.float32))\n",
    "sess.run(tf.global_variables_initializer())\n",
    "for i in range(20000):\n",
    "  batch = mnist.train.next_batch(50)\n",
    "  if i%1000 == 0:\n",
    "    train_accuracy = accuracy.eval(feed_dict={\n",
    "        x:batch[0], y_: batch[1]})\n",
    "    print(\"step %d, training accuracy %g\"%(i, train_accuracy))\n",
    "  train_step.run(feed_dict={x: batch[0], y_: batch[1]})\n",
    "\n",
    "print(\"test accuracy %g\"%accuracy.eval(feed_dict={\n",
    "    x: mnist.test.images, y_: mnist.test.labels}))"
   ]
  },
  {
   "cell_type": "markdown",
   "metadata": {},
   "source": [
    "## A Simple Convolutional Neural Network: LeNet"
   ]
  },
  {
   "cell_type": "markdown",
   "metadata": {},
   "source": [
    "Here we make our first CNN. It's quite simple network, but it's surprisingly good at this handwritten digit recognition task. This a variant on Yann LeCun's CNN network that really helped to move deep learning forward."
   ]
  },
  {
   "cell_type": "markdown",
   "metadata": {},
   "source": [
    "We define both weight and bias variables and how they are to be initialized. Note that the weights are are distributed according to a standard normal distribution (mean = 0, std = 0.1). This random initialization helps avoid hidden units get stuck together, as units that start with the same value will be updated identically in the non-convolutional layers. In contrast, the bias variables are set to a small positive number--this is help prevent hidden units from starting out and getting stuck in the zero part of the ReLu. "
   ]
  },
  {
   "cell_type": "code",
   "execution_count": null,
   "metadata": {},
   "outputs": [],
   "source": [
    "def weight_variable(shape):\n",
    "  initial = tf.truncated_normal(shape, stddev=0.1)\n",
    "  return tf.Variable(initial)\n",
    "\n",
    "def bias_variable(shape):\n",
    "  initial = tf.constant(0.1, shape=shape)\n",
    "  return tf.Variable(initial)"
   ]
  },
  {
   "cell_type": "markdown",
   "metadata": {},
   "source": [
    "Next we define how the convolution is to be computed and the extent and type of pooling. The convolution will use a 5x5 kernel and will pad the image with zeros around the edges and use a stride of 1 pixel so that the resulting image (after convolution) has the same size as the original input image. The network will learn the weights for a stack of 32 separate kernels along with 32 bias variables. Finally, after the ReLu is performed the result will be under go 2x2 max pooling, thus halfing both dimensions of the image. The choices for the stride, padding, and pooling are not parameters that the network needs to estimate. Rather these are termed \"hyperparamters\" that are usually set by the network designer."
   ]
  },
  {
   "cell_type": "code",
   "execution_count": null,
   "metadata": {},
   "outputs": [],
   "source": [
    "def conv2d(x, W):\n",
    "  return tf.nn.conv2d(x, W, strides=[1, 1, 1, 1], padding='SAME')\n",
    "\n",
    "def max_pool_2x2(x):\n",
    "  return tf.nn.max_pool(x, ksize=[1, 2, 2, 1],\n",
    "                        strides=[1, 2, 2, 1], padding='SAME')"
   ]
  },
  {
   "cell_type": "markdown",
   "metadata": {},
   "source": [
    "This creates the weight and bias variables for the first convolutional layer as described above. Note the output has depth 32, so there will be 32 feature images after this layer."
   ]
  },
  {
   "cell_type": "code",
   "execution_count": null,
   "metadata": {},
   "outputs": [],
   "source": [
    "W_conv1 = weight_variable([5, 5, 1, 32])\n",
    "b_conv1 = bias_variable([32])"
   ]
  },
  {
   "cell_type": "markdown",
   "metadata": {},
   "source": [
    "Unlike for our softmax regressor above, here we need keep the images as images and not collapse these into vectors; this allows us to perform the 2D convolution."
   ]
  },
  {
   "cell_type": "code",
   "execution_count": null,
   "metadata": {},
   "outputs": [],
   "source": [
    "x_image = tf.reshape(x, [-1,28,28,1])"
   ]
  },
  {
   "cell_type": "markdown",
   "metadata": {},
   "source": [
    "Finally, we define are first layer of our CNN!"
   ]
  },
  {
   "cell_type": "code",
   "execution_count": null,
   "metadata": {},
   "outputs": [],
   "source": [
    "h_conv1 = tf.nn.relu(conv2d(x_image, W_conv1) + b_conv1)\n",
    "h_pool1 = max_pool_2x2(h_conv1)"
   ]
  },
  {
   "cell_type": "markdown",
   "metadata": {},
   "source": [
    "And wasting no time, we define are second layer. The second layer will have to process 32 feature images coming out of the first layer. Note that the images input to this layer have $\\frac{1}{4}$ the number of pixels as the original input images due to the 2x2 pooling in the previous layer. Note that convolution layer NOT fully connected as our previous hidden layers have been. A unit in the output layer has a limited \"receptive field.\" Its connections to the input layer are spatially limited by the kernel (or filter) size. Also, because of weight sharing in convolutional layers, the number of parameters for a convolutional is the size of the kernel x the depth of the input layer x depth of the output layer + depth of the output layer. So for the second layer of our ConvNet, we have 5 x 5 x 32 x 64 + 64 = 51,264 parameters. "
   ]
  },
  {
   "cell_type": "code",
   "execution_count": null,
   "metadata": {},
   "outputs": [],
   "source": [
    "W_conv2 = weight_variable([5, 5, 32, 64])\n",
    "b_conv2 = bias_variable([64])\n",
    "\n",
    "h_conv2 = tf.nn.relu(conv2d(h_pool1, W_conv2) + b_conv2)\n",
    "h_pool2 = max_pool_2x2(h_conv2)"
   ]
  },
  {
   "cell_type": "markdown",
   "metadata": {},
   "source": [
    "After the pooling stage of our second convolutional layer, we have 64 7x7 \"feature\" images. In one penultimate fully connected hidden layer, we are going to map these feature imges to a 1024 dimensional feature space. Note we need to flatten these feature images to do this."
   ]
  },
  {
   "cell_type": "code",
   "execution_count": null,
   "metadata": {},
   "outputs": [],
   "source": [
    "W_fc1 = weight_variable([7 * 7 * 64, 1024])\n",
    "b_fc1 = bias_variable([1024])\n",
    "\n",
    "h_pool2_flat = tf.reshape(h_pool2, [-1, 7*7*64])\n",
    "h_fc1 = tf.nn.relu(tf.matmul(h_pool2_flat, W_fc1) + b_fc1)"
   ]
  },
  {
   "cell_type": "markdown",
   "metadata": {},
   "source": [
    "Dropout is added here, although it is not really needed for such small network."
   ]
  },
  {
   "cell_type": "code",
   "execution_count": null,
   "metadata": {},
   "outputs": [],
   "source": [
    "keep_prob = tf.placeholder(tf.float32)\n",
    "h_fc1_drop = tf.nn.dropout(h_fc1, keep_prob)"
   ]
  },
  {
   "cell_type": "markdown",
   "metadata": {},
   "source": [
    "We have a final linear output layer mapping features to scores topped off with a softmax cross entropy loss function, as explained earlier."
   ]
  },
  {
   "cell_type": "code",
   "execution_count": null,
   "metadata": {},
   "outputs": [],
   "source": [
    "W_fc2 = weight_variable([1024, 10])\n",
    "b_fc2 = bias_variable([10])\n",
    "\n",
    "y_conv = tf.matmul(h_fc1_drop, W_fc2) + b_fc2"
   ]
  },
  {
   "cell_type": "code",
   "execution_count": null,
   "metadata": {},
   "outputs": [],
   "source": [
    "cross_entropy = tf.reduce_mean(\n",
    "    tf.nn.softmax_cross_entropy_with_logits(labels=y_, logits=y_conv))"
   ]
  },
  {
   "cell_type": "markdown",
   "metadata": {},
   "source": [
    "For training we choose an Adam learning rate and update rule. We then run this for 20,000 iterations and evaluate our accuracy after training."
   ]
  },
  {
   "cell_type": "code",
   "execution_count": null,
   "metadata": {},
   "outputs": [],
   "source": [
    "train_step = tf.train.AdamOptimizer(1e-4).minimize(cross_entropy)\n",
    "correct_prediction = tf.equal(tf.argmax(y_conv,1), tf.argmax(y_,1))\n",
    "accuracy = tf.reduce_mean(tf.cast(correct_prediction, tf.float32))\n",
    "sess.run(tf.global_variables_initializer())\n",
    "for i in range(20000):\n",
    "  batch = mnist.train.next_batch(50)\n",
    "  if i%1000 == 0:\n",
    "    train_accuracy = accuracy.eval(feed_dict={\n",
    "        x:batch[0], y_: batch[1], keep_prob: 1.0})\n",
    "    print(\"step %d, training accuracy %g\"%(i, train_accuracy))\n",
    "  train_step.run(feed_dict={x: batch[0], y_: batch[1], keep_prob: 0.5})\n",
    "\n",
    "print(\"test accuracy %g\"%accuracy.eval(feed_dict={\n",
    "    x: mnist.test.images, y_: mnist.test.labels, keep_prob: 1.0}))"
   ]
  },
  {
   "cell_type": "markdown",
   "metadata": {},
   "source": [
    "We add an output to compuational graph that computes the label probabilities."
   ]
  },
  {
   "cell_type": "code",
   "execution_count": null,
   "metadata": {},
   "outputs": [],
   "source": [
    "y_probs = tf.nn.softmax(logits=y_conv, name=None)"
   ]
  },
  {
   "cell_type": "code",
   "execution_count": null,
   "metadata": {},
   "outputs": [],
   "source": [
    "print(\"test accuracy %g\"%accuracy.eval(feed_dict={\n",
    "    x: mnist.test.images, y_: mnist.test.labels, keep_prob: 1.0}))"
   ]
  },
  {
   "cell_type": "markdown",
   "metadata": {},
   "source": [
    "Next we step through some test examples and see how well the network is doing."
   ]
  },
  {
   "cell_type": "code",
   "execution_count": null,
   "metadata": {},
   "outputs": [],
   "source": [
    "for i in range(5):\n",
    "    batch = mnist.test.next_batch(1)\n",
    "    image = np.asarray(batch[0]).reshape((28, 28))\n",
    "    label = batch[1]\n",
    "    \n",
    "    plt.imshow(image)\n",
    "    plt.axis(\"off\")\n",
    "    plt.show()\n",
    "    print \"Label = \", label\n",
    "    print \"Class probabilities = \", y_probs.eval(feed_dict={\n",
    "        x: batch[0], y_: batch[1], keep_prob: 1.0})"
   ]
  },
  {
   "cell_type": "markdown",
   "metadata": {
    "collapsed": true
   },
   "source": [
    "## All parts of this assignment (a-g) are incorporated into each of the three models built using PyTorch, defined below:"
   ]
  },
  {
   "cell_type": "code",
   "execution_count": 1,
   "metadata": {},
   "outputs": [],
   "source": [
    "import matplotlib.pyplot as plt\n",
    "import numpy as np\n",
    "import torch #import pytorch\n",
    "import torchvision.datasets #torchvision is a library in pytorch that has datasets\n",
    "from torchvision import transforms\n",
    "import torch.nn as nn\n",
    "import torch.nn.functional as F\n",
    "import torch.optim as optim\n",
    "from torch.autograd import Variable\n",
    "import random"
   ]
  },
  {
   "cell_type": "markdown",
   "metadata": {},
   "source": [
    "### 1) Simple Softmax Regressor"
   ]
  },
  {
   "cell_type": "code",
   "execution_count": 2,
   "metadata": {},
   "outputs": [],
   "source": [
    "#get the train, test, and validation sets for pytorch using MNIST\n",
    "transform = transforms.ToTensor()\n",
    "dataset = torchvision.datasets.MNIST(root='./data', train=True, download=True, transform=transform) #here we initialize the mnist training set (to be split up later)\n",
    "#split the dataset (originally train) into train and validation sets, 75/25\n",
    "train_size = int(0.75*len(dataset))\n",
    "val_size = int(0.25*len(dataset))\n",
    "trainset, valset = torch.utils.data.random_split(dataset, [train_size, val_size]) #here we initialize train and validation sets\n",
    "testset = torchvision.datasets.MNIST(root='./data', train=False, download=True, transform=transform) #here we initialize the mnist test set"
   ]
  },
  {
   "cell_type": "code",
   "execution_count": 3,
   "metadata": {},
   "outputs": [],
   "source": [
    "#Step 1: Load and prepare dataset\n",
    "trainloader = torch.utils.data.DataLoader(trainset, batch_size=4, shuffle=True)\n",
    "testloader = torch.utils.data.DataLoader(testset, batch_size=4, shuffle=False)\n",
    "valloader = torch.utils.data.DataLoader(testset, batch_size=4)"
   ]
  },
  {
   "cell_type": "code",
   "execution_count": 4,
   "metadata": {},
   "outputs": [],
   "source": [
    "#Step 2: Define a model\n",
    "class SSR(nn.Module):\n",
    "    def __init__(self, input_dim, output_dim): #we must define the number of input units and output units\n",
    "        super(SSR, self).__init__() #super calls the __init__ method of the parent class, here nn.Module\n",
    "        self.linear = nn.Linear(input_dim, output_dim) #applies linear transformation\n",
    "        \n",
    "    def forward(self, x): #our method for forward propogation\n",
    "        output = self.linear(x) #call nn.Linear to apply the linear transformation\n",
    "        return output\n",
    "    \n",
    "SSR_model = SSR(784, 10)"
   ]
  },
  {
   "cell_type": "code",
   "execution_count": 5,
   "metadata": {},
   "outputs": [],
   "source": [
    "#Step 3: Define training options\n",
    "criterion = nn.CrossEntropyLoss() #compute softmax cross entropy loss\n",
    "optimizer = optim.SGD(SSR_model.parameters(), lr=0.001, momentum=0.9) #use stochastic gradient descent as our learning algorithm"
   ]
  },
  {
   "cell_type": "markdown",
   "metadata": {},
   "source": [
    "#### Training the network and evaluating accuracy"
   ]
  },
  {
   "cell_type": "code",
   "execution_count": 1,
   "metadata": {},
   "outputs": [
    {
     "ename": "NameError",
     "evalue": "name 'trainloader' is not defined",
     "output_type": "error",
     "traceback": [
      "\u001b[0;31m---------------------------------------------------------------------------\u001b[0m",
      "\u001b[0;31mNameError\u001b[0m                                 Traceback (most recent call last)",
      "\u001b[0;32m<ipython-input-1-9f6d03ae5b41>\u001b[0m in \u001b[0;36m<module>\u001b[0;34m\u001b[0m\n\u001b[1;32m      9\u001b[0m     \u001b[0mrunning_loss\u001b[0m \u001b[0;34m=\u001b[0m \u001b[0;36m0.0\u001b[0m \u001b[0;31m#initialize loss to 0\u001b[0m\u001b[0;34m\u001b[0m\u001b[0;34m\u001b[0m\u001b[0m\n\u001b[1;32m     10\u001b[0m \u001b[0;34m\u001b[0m\u001b[0m\n\u001b[0;32m---> 11\u001b[0;31m     \u001b[0;32mfor\u001b[0m \u001b[0mi\u001b[0m\u001b[0;34m,\u001b[0m \u001b[0mimages\u001b[0m \u001b[0;32min\u001b[0m \u001b[0menumerate\u001b[0m\u001b[0;34m(\u001b[0m\u001b[0mtrainloader\u001b[0m\u001b[0;34m)\u001b[0m\u001b[0;34m:\u001b[0m \u001b[0;31m#go through each image/label in the training data\u001b[0m\u001b[0;34m\u001b[0m\u001b[0;34m\u001b[0m\u001b[0m\n\u001b[0m\u001b[1;32m     12\u001b[0m         \u001b[0;31m#Variable class is a wrapper over torch Tensors and is necessary for PyTorch to forward propogate\u001b[0m\u001b[0;34m\u001b[0m\u001b[0;34m\u001b[0m\u001b[0;34m\u001b[0m\u001b[0m\n\u001b[1;32m     13\u001b[0m         \u001b[0mimages\u001b[0m \u001b[0;34m=\u001b[0m \u001b[0mVariable\u001b[0m\u001b[0;34m(\u001b[0m\u001b[0mimages\u001b[0m\u001b[0;34m.\u001b[0m\u001b[0mcontiguous\u001b[0m\u001b[0;34m(\u001b[0m\u001b[0;34m)\u001b[0m\u001b[0;34m.\u001b[0m\u001b[0mview\u001b[0m\u001b[0;34m(\u001b[0m\u001b[0;34m-\u001b[0m\u001b[0;36m1\u001b[0m\u001b[0;34m,\u001b[0m \u001b[0;36m784\u001b[0m\u001b[0;34m)\u001b[0m\u001b[0;34m)\u001b[0m \u001b[0;31m##reshape images to work with model class (28*28)\u001b[0m\u001b[0;34m\u001b[0m\u001b[0;34m\u001b[0m\u001b[0m\n",
      "\u001b[0;31mNameError\u001b[0m: name 'trainloader' is not defined"
     ]
    }
   ],
   "source": [
    "#Step 4: Train the network\n",
    "best_val_loss = 1 #for keeping track of best (lowest) validation loss across all epochs\n",
    "best_epoch = 1 #for keeping track of the best epoch based on validation loss\n",
    "\n",
    "for epoch in range(10): #let's do 10 epochs\n",
    "    \n",
    "    train_loss_per_epoch = [] #keep a list of the losses for each epoch, then take the average loss for one epoch\n",
    "    validation_loss = [] #keep a running list of the losses on the validation data\n",
    "    running_loss = 0.0 #initialize loss to 0\n",
    "    \n",
    "    for i, (images, labels) in enumerate(trainloader): #go through each image/label in the training data\n",
    "        #Variable class is a wrapper over torch Tensors and is necessary for PyTorch to forward propogate\n",
    "        images = Variable(images.contiguous().view(-1, 784)) ##reshape images to work with model class (28*28)\n",
    "        labels = Variable(labels) #get the labels\n",
    "        optimizer.zero_grad() #zero the parameter gradients\n",
    "        outputs = SSR_model(images) #get outputs from our model from forward prop\n",
    "        loss = criterion(outputs, labels) #calculate loss\n",
    "        loss.backward() #backpropogate, computes the gradients\n",
    "        optimizer.step() #optimize\n",
    "        \n",
    "        #print stats\n",
    "        running_loss += loss.item() #add up losses\n",
    "        if i % 128 == 127: #print every mini-batch of size 128\n",
    "            train_loss_per_epoch.append(running_loss/128)\n",
    "            running_loss = 0.0 #reset loss\n",
    "            \n",
    "    print('epoch: ', epoch + 1, 'training loss: ', sum(train_loss_per_epoch)/len(train_loss_per_epoch))\n",
    "            \n",
    "    #run the validation set through the network, check for loss and accuracy\n",
    "    for i, (images, labels) in enumerate(valloader): #go through each image/label in the validation data\n",
    "        #Variable class is a wrapper over torch Tensors and is necessary for PyTorch to forward propogate\n",
    "        images = Variable(images.contiguous().view(-1, 784)) #reshape images to work with model class\n",
    "        labels = Variable(labels) #get the labels\n",
    "        optimizer.zero_grad() #zero the parameter gradients\n",
    "        outputs = SSR_model(images) #get outputs from our model from forward prop\n",
    "        loss = criterion(outputs, labels) #calculate loss\n",
    "        #calculate gradient of matrix\n",
    "        loss.backward() #backpropogate\n",
    "        #apply gradient from last step to matrix\n",
    "        optimizer.step() #optimize\n",
    "        running_loss += loss.item() #add up losses\n",
    "        \n",
    "    val_loss = running_loss/len(valloader) #divide running loss by the length of valloader to get the average loss\n",
    "    print('epoch: ', epoch + 1, 'validation loss:', val_loss) #we run on entire set, not in mini-batches\n",
    "    \n",
    "    if val_loss < best_val_loss: #check which epoch is best based on lowest validation loss\n",
    "        torch.save(SSR_model, '../Desktop/SSR_model.pt') #save the model\n",
    "        best_val_loss = val_loss #save the new best (lowest) loss\n",
    "        best_epoch = epoch + 1 #save the best epoch\n",
    "    \n",
    "#Step 5: Evaluate the network\n",
    "    correct = 0 #initialize number correct to 0\n",
    "    total = 0 #initialize total to 0\n",
    "\n",
    "    with torch.no_grad(): #allow the weights to have no gradients, otherwise causes error in backpropagation\n",
    "        for data in valloader: #compute accuracy on validation data\n",
    "            images, labels = data #our data consists of (images, labels)\n",
    "            #Variable class is a wrapper over torch Tensors and is necessary for PyTorch to forward propogate\n",
    "            images = Variable(images.contiguous().view(-1, 784)) #reshape images to work with model class\n",
    "            outputs = SSR_model(images) #get outputs from our model from forward prop\n",
    "            _, predicted = torch.max(outputs.data, 1) #make a prediction based on outputs\n",
    "            total += labels.size(0) #total number of labels\n",
    "            correct += (predicted == labels).sum().item() #total number of correct predictions\n",
    "\n",
    "    accuracy = correct/total\n",
    "    print('epoch: ', epoch + 1, 'validation accuracy: %.4f' % accuracy)\n",
    "        \n",
    "            \n",
    "print('FINISHED TRAINING')\n",
    "print('best epoch for this model: ', best_epoch)"
   ]
  },
  {
   "cell_type": "markdown",
   "metadata": {},
   "source": [
    "#### Parts d, g) Now that we know our best epoch for this model, we'll load the model and run our test data on that. Then we'll plot 10 randomly selected digits and report their predicted and actual labels."
   ]
  },
  {
   "cell_type": "code",
   "execution_count": 7,
   "metadata": {},
   "outputs": [
    {
     "data": {
      "image/png": "[encoded data removed]",
      "text/plain": [
       "<Figure size 432x288 with 1 Axes>"
      ]
     },
     "metadata": {
      "needs_background": "light"
     },
     "output_type": "display_data"
    },
    {
     "data": {
      "image/png": "[encoded data removed]",
      "text/plain": [
       "<Figure size 432x288 with 1 Axes>"
      ]
     },
     "metadata": {
      "needs_background": "light"
     },
     "output_type": "display_data"
    },
    {
     "data": {
      "image/png": "[encoded data removed]",
      "text/plain": [
       "<Figure size 432x288 with 1 Axes>"
      ]
     },
     "metadata": {
      "needs_background": "light"
     },
     "output_type": "display_data"
    },
    {
     "data": {
      "image/png": "[encoded data removed]",
      "text/plain": [
       "<Figure size 432x288 with 1 Axes>"
      ]
     },
     "metadata": {
      "needs_background": "light"
     },
     "output_type": "display_data"
    },
    {
     "data": {
      "image/png": "[encoded data removed]",
      "text/plain": [
       "<Figure size 432x288 with 1 Axes>"
      ]
     },
     "metadata": {
      "needs_background": "light"
     },
     "output_type": "display_data"
    },
    {
     "data": {
      "image/png": "[encoded data removed]",
      "text/plain": [
       "<Figure size 432x288 with 1 Axes>"
      ]
     },
     "metadata": {
      "needs_background": "light"
     },
     "output_type": "display_data"
    },
    {
     "data": {
      "image/png": "[encoded data removed]",
      "text/plain": [
       "<Figure size 432x288 with 1 Axes>"
      ]
     },
     "metadata": {
      "needs_background": "light"
     },
     "output_type": "display_data"
    },
    {
     "data": {
      "image/png": "[encoded data removed]",
      "text/plain": [
       "<Figure size 432x288 with 1 Axes>"
      ]
     },
     "metadata": {
      "needs_background": "light"
     },
     "output_type": "display_data"
    },
    {
     "data": {
      "image/png": "[encoded data removed]",
      "text/plain": [
       "<Figure size 432x288 with 1 Axes>"
      ]
     },
     "metadata": {
      "needs_background": "light"
     },
     "output_type": "display_data"
    },
    {
     "data": {
      "image/png": "[encoded data removed]",
      "text/plain": [
       "<Figure size 432x288 with 1 Axes>"
      ]
     },
     "metadata": {
      "needs_background": "light"
     },
     "output_type": "display_data"
    },
    {
     "name": "stdout",
     "output_type": "stream",
     "text": [
      "testing accuracy: 0.9312\n",
      "predicted labels:  [tensor([4, 4, 6, 3]), tensor([1, 0, 9, 1]), tensor([4, 4, 6, 6]), tensor([8, 7, 7, 9]), tensor([3, 6, 3, 3]), tensor([1, 2, 8, 9]), tensor([0, 3, 8, 9]), tensor([6, 7, 2, 1]), tensor([1, 3, 8, 2]), tensor([6, 5, 2, 9])]\n",
      "actual labels:  [tensor([4, 4, 6, 3]), tensor([1, 6, 9, 1]), tensor([4, 4, 1, 6]), tensor([8, 7, 7, 9]), tensor([3, 6, 3, 3]), tensor([1, 2, 8, 9]), tensor([0, 3, 8, 9]), tensor([6, 7, 2, 1]), tensor([1, 3, 8, 2]), tensor([6, 5, 2, 9])]\n"
     ]
    }
   ],
   "source": [
    "SSR_model = torch.load('../Desktop/SSR_model.pt') #load the model that we saved for the best epoch\n",
    "SSR_model.eval() #evaluate the model\n",
    "\n",
    "correct = 0 #initialize number correct to 0\n",
    "total = 0 #initialize total to 0\n",
    "random_digits = random.sample(range(0, len(testloader)), 10) #generate 10 UNIQUE random digits for getting 10 random images\n",
    "counter = 0 #see if counter == a number in random_digits\n",
    "random_predicted = [] #list of predicted values for the 10 random images\n",
    "random_labels = [] #list of correct labels for the 10 random images\n",
    "\n",
    "with torch.no_grad(): #allow the weights to have no gradients, otherwise causes error in backpropagation\n",
    "    for data in testloader: #compute accuracy on testing data\n",
    "        images, labels = data\n",
    "        #Variable class is a wrapper over torch Tensors and is necessary for PyTorch to forward propogate\n",
    "        images = Variable(images.contiguous().view(-1, 784)) #reshape images to work with model class\n",
    "        outputs = SSR_model(images) #get outputs from our model from forward prop\n",
    "        _, predicted = torch.max(outputs.data, 1) #make a prediction based on outputs\n",
    "        total += labels.size(0) #total number of labels\n",
    "        correct += (predicted == labels).sum().item() #total number of correct predictions\n",
    "        if counter in random_digits: #check to see if our counter is in the random_digits list we created\n",
    "            random_predicted.append(predicted) #add the respective image's predicted value to our predicted list\n",
    "            random_labels.append(labels) #add the respective image's actual value to our labels list\n",
    "            plt.imshow(images.reshape((56,56))) #shape of the image is 56,56 and needs to be reshaped to be shown\n",
    "            plt.axis(\"off\")\n",
    "            plt.show()\n",
    "        counter += 1 #increment counter\n",
    "        \n",
    "accuracy = correct/total #accuracy is the number correctly predicted divided by total number of labels\n",
    "print('testing accuracy: %.4f' % accuracy)\n",
    "print('predicted labels: ', random_predicted)\n",
    "print('actual labels: ', random_labels)"
   ]
  },
  {
   "cell_type": "markdown",
   "metadata": {},
   "source": [
    "### 2) MLP"
   ]
  },
  {
   "cell_type": "code",
   "execution_count": 8,
   "metadata": {},
   "outputs": [],
   "source": [
    "#get the train, test, and validation sets for pytorch using MNIST\n",
    "transform = transforms.ToTensor()\n",
    "dataset = torchvision.datasets.MNIST(root='./data', train=True, download=True, transform=transform) #here we initialize the mnist training set (to be split up later)\n",
    "#split the dataset (originally train) into train and validation sets, 75/25\n",
    "train_size = int(0.75*len(dataset))\n",
    "val_size = int(0.25*len(dataset))\n",
    "trainset, valset = torch.utils.data.random_split(dataset, [train_size, val_size]) #here we initialize train and validation sets\n",
    "testset = torchvision.datasets.MNIST(root='./data', train=False, download=True, transform=transform) #here we initialize the mnist test set"
   ]
  },
  {
   "cell_type": "code",
   "execution_count": 9,
   "metadata": {},
   "outputs": [],
   "source": [
    "#Step 1: Load and prepare dataset\n",
    "trainloader = torch.utils.data.DataLoader(trainset, batch_size=4, shuffle=True)\n",
    "testloader = torch.utils.data.DataLoader(testset, batch_size=4, shuffle=False)\n",
    "valloader = torch.utils.data.DataLoader(testset, batch_size=4)"
   ]
  },
  {
   "cell_type": "code",
   "execution_count": 10,
   "metadata": {},
   "outputs": [],
   "source": [
    "#Step 2: Define a model\n",
    "class MLP(nn.Module):\n",
    "    #to make this an MLP, we'll have three hidden layers\n",
    "    def __init__(self, input_size, hidden_size1, hidden_size2, hidden_size3, output_size): #for an MLP we have input, hidden layers, output\n",
    "        super(MLP, self).__init__() #super calls the __init__ method of the parent class, here nn.Module\n",
    "        self.fc1 = nn.Linear(input_size, hidden_size1) #applies a linear transformation, first hidden layer\n",
    "        self.fc2 = nn.Linear(hidden_size1, hidden_size2) #applies a linear transformation, second hidden layer\n",
    "        self.fc3 = nn.Linear(hidden_size2, hidden_size3) #applies a linear transformation, third hidden layer\n",
    "        self.relu = nn.ReLU() #outputs non-linear information\n",
    "        self.fc4 = nn.Linear(hidden_size3, output_size) #applies a linear transformation\n",
    "        self.sigmoid = nn.Sigmoid() #sigmoid function for MLP\n",
    "        \n",
    "    def forward(self, x):\n",
    "        output = self.fc1(x) #first hidden layer\n",
    "        output = self.fc2(output) #second hidden layer\n",
    "        output = self.fc3(output) #third hidden layer\n",
    "        output = self.relu(output) #apply relu activation\n",
    "        output = self.fc4(output) #output layer\n",
    "        output = self.sigmoid(output) #apply sigmoid calculation\n",
    "        return output #return result\n",
    "    \n",
    "MLP_model = MLP(784, 500, 500, 500, 10) #784 inputs, hidden layer sizes are all 500, output size is 10"
   ]
  },
  {
   "cell_type": "code",
   "execution_count": 11,
   "metadata": {},
   "outputs": [],
   "source": [
    "#Step 3: Define training options\n",
    "criterion = nn.CrossEntropyLoss() #compute softmax cross entropy loss\n",
    "optimizer = optim.SGD(MLP_model.parameters(), lr=0.001, momentum=0.9) #use stochastic gradient descent as our learning algorithm"
   ]
  },
  {
   "cell_type": "markdown",
   "metadata": {},
   "source": [
    "#### Training the network and evaluating accuracy"
   ]
  },
  {
   "cell_type": "code",
   "execution_count": 12,
   "metadata": {},
   "outputs": [
    {
     "name": "stdout",
     "output_type": "stream",
     "text": [
      "epoch:  1 training loss:  0.5761516320538118\n",
      "epoch:  1 validation loss: 0.5030635276942073\n",
      "epoch:  1 validation accuracy: 0.8445\n",
      "epoch:  2 training loss:  0.4528207414891242\n",
      "epoch:  2 validation loss: 0.48660469241893256\n",
      "epoch:  2 validation accuracy: 0.8825\n",
      "epoch:  3 training loss:  0.4401694304202796\n",
      "epoch:  3 validation loss: 0.4753130068773813\n",
      "epoch:  3 validation accuracy: 0.9147\n",
      "epoch:  4 training loss:  0.43105905982631887\n",
      "epoch:  4 validation loss: 0.4696411788319815\n",
      "epoch:  4 validation accuracy: 0.9232\n",
      "epoch:  5 training loss:  0.42649754759772684\n",
      "epoch:  5 validation loss: 0.4655841798702112\n",
      "epoch:  5 validation accuracy: 0.9282\n",
      "epoch:  6 training loss:  0.42334218502466137\n",
      "epoch:  6 validation loss: 0.462746409364189\n",
      "epoch:  6 validation accuracy: 0.9321\n",
      "epoch:  7 training loss:  0.4207077978683026\n",
      "epoch:  7 validation loss: 0.46056189909852524\n",
      "epoch:  7 validation accuracy: 0.9337\n",
      "epoch:  8 training loss:  0.41893773369357845\n",
      "epoch:  8 validation loss: 0.459364095340305\n",
      "epoch:  8 validation accuracy: 0.9388\n",
      "epoch:  9 training loss:  0.41727875963976596\n",
      "epoch:  9 validation loss: 0.45807667541442404\n",
      "epoch:  9 validation accuracy: 0.9401\n",
      "epoch:  10 training loss:  0.4161604732617377\n",
      "epoch:  10 validation loss: 0.4566635203398341\n",
      "epoch:  10 validation accuracy: 0.9420\n",
      "FINISHED TRAINING\n",
      "best epoch for this model:  10\n"
     ]
    }
   ],
   "source": [
    "#Step 4: Train the network\n",
    "best_val_loss = 1 #for keeping track of best (lowest) validation loss across all epochs\n",
    "best_epoch = 1 #for keeping track of the best epoch based on validation loss\n",
    "\n",
    "for epoch in range(10): #let's do 10 epochs\n",
    "    \n",
    "    train_loss_per_epoch = [] #keep a list of the losses for each epoch, then take the average loss for one epoch\n",
    "    validation_loss = [] #keep a running list of the losses on the validation data\n",
    "    running_loss = 0.0 #initialize loss to 0\n",
    "    \n",
    "    for i, (images, labels) in enumerate(trainloader): #go through each image/label in the training data\n",
    "        #Variable class is a wrapper over torch Tensors and is necessary for PyTorch to forward propogate\n",
    "        images = Variable(images.contiguous().view(-1, 784)) #reshape images to work with model class\n",
    "        labels = Variable(labels) #get the labels\n",
    "        optimizer.zero_grad() #zero the parameter gradients\n",
    "        outputs = MLP_model(images) #get outputs from our model from forward prop\n",
    "        loss = criterion(outputs, labels) #calculate loss\n",
    "        loss.backward() #backpropogate, computes the gradients\n",
    "        optimizer.step() #optimize\n",
    "        \n",
    "        #print stats\n",
    "        running_loss += loss.item() #add up losses\n",
    "        if i % 128 == 127: #print every mini-batch of size 128\n",
    "            train_loss_per_epoch.append(running_loss/128)\n",
    "            running_loss = 0.0 #reset loss\n",
    "            \n",
    "    print('epoch: ', epoch + 1, 'training loss: ', np.log(sum(train_loss_per_epoch)/len(train_loss_per_epoch)))\n",
    "            \n",
    "    #run the validation set through the network, check for loss and accuracy\n",
    "    for i, (images, labels) in enumerate(valloader): #go through each image/label in the validation data\n",
    "        #Variable class is a wrapper over torch Tensors and is necessary for PyTorch to forward propogate\n",
    "        images = Variable(images.contiguous().view(-1, 784)) #reshape images to work with model class\n",
    "        labels = Variable(labels) #get the labels\n",
    "        optimizer.zero_grad() #zero the parameter gradients\n",
    "        outputs = MLP_model(images) #get outputs from our model from forward prop\n",
    "        loss = criterion(outputs, labels) #calculate loss\n",
    "        #calculate gradient of matrix\n",
    "        loss.backward() #backpropogate\n",
    "        #apply gradient from last step to matrix\n",
    "        optimizer.step() #optimize\n",
    "        running_loss += loss.item() #add up losses\n",
    "            \n",
    "    val_loss = np.log(running_loss/len(valloader)) #divide running loss by the length of valloader to get the average loss\n",
    "    print('epoch: ', epoch + 1, 'validation loss:', val_loss) #we run on entire set, not in mini-batches\n",
    "    \n",
    "    if val_loss < best_val_loss: #check which epoch is best based on lowest validation loss\n",
    "        torch.save(MLP_model, '../Desktop/MLP_model.pt') #save the model\n",
    "        best_val_loss = val_loss #save the new best (lowest) loss\n",
    "        best_epoch = epoch + 1 #save the best epoch\n",
    "    \n",
    "#Step 5: Evaluate the network\n",
    "    correct = 0 #initialize number correct to 0\n",
    "    total = 0 #initialize total to 0\n",
    "\n",
    "    with torch.no_grad(): #allow the weights to have no gradients, otherwise causes error in backpropagation\n",
    "        for data in valloader: #compute accuracy on validation data\n",
    "            images, labels = data #our data consists of (images, labels)\n",
    "            images = Variable(images.contiguous().view(-1, 784)) #reshape images to work with model class\n",
    "            outputs = MLP_model(images) #get outputs from our model from forward prop\n",
    "            _, predicted = torch.max(outputs.data, 1) #make a prediction based on outputs\n",
    "            total += labels.size(0) #total number of labels\n",
    "            correct += (predicted == labels).sum().item() #total number of correct predictions\n",
    "\n",
    "    accuracy = correct/total\n",
    "    print('epoch: ', epoch + 1, 'validation accuracy: %.4f' % accuracy)\n",
    "        \n",
    "            \n",
    "print('FINISHED TRAINING')\n",
    "print('best epoch for this model: ', best_epoch)"
   ]
  },
  {
   "cell_type": "markdown",
   "metadata": {},
   "source": [
    "#### Parts d, g) Now that we know our best epoch for this model, we'll load the model and run our test data on that. Then we'll plot 10 randomly selected digits and report their predicted and actual labels."
   ]
  },
  {
   "cell_type": "code",
   "execution_count": 13,
   "metadata": {},
   "outputs": [
    {
     "data": {
      "image/png": "[encoded data removed]",
      "text/plain": [
       "<Figure size 432x288 with 1 Axes>"
      ]
     },
     "metadata": {
      "needs_background": "light"
     },
     "output_type": "display_data"
    },
    {
     "data": {
      "image/png": "[encoded data removed]",
      "text/plain": [
       "<Figure size 432x288 with 1 Axes>"
      ]
     },
     "metadata": {
      "needs_background": "light"
     },
     "output_type": "display_data"
    },
    {
     "data": {
      "image/png": "[encoded data removed]",
      "text/plain": [
       "<Figure size 432x288 with 1 Axes>"
      ]
     },
     "metadata": {
      "needs_background": "light"
     },
     "output_type": "display_data"
    },
    {
     "data": {
      "image/png": "[encoded data removed]",
      "text/plain": [
       "<Figure size 432x288 with 1 Axes>"
      ]
     },
     "metadata": {
      "needs_background": "light"
     },
     "output_type": "display_data"
    },
    {
     "data": {
      "image/png": "[encoded data removed]",
      "text/plain": [
       "<Figure size 432x288 with 1 Axes>"
      ]
     },
     "metadata": {
      "needs_background": "light"
     },
     "output_type": "display_data"
    },
    {
     "data": {
      "image/png": "[encoded data removed]",
      "text/plain": [
       "<Figure size 432x288 with 1 Axes>"
      ]
     },
     "metadata": {
      "needs_background": "light"
     },
     "output_type": "display_data"
    },
    {
     "data": {
      "image/png": "[encoded data removed]",
      "text/plain": [
       "<Figure size 432x288 with 1 Axes>"
      ]
     },
     "metadata": {
      "needs_background": "light"
     },
     "output_type": "display_data"
    },
    {
     "data": {
      "image/png": "[encoded data removed]",
      "text/plain": [
       "<Figure size 432x288 with 1 Axes>"
      ]
     },
     "metadata": {
      "needs_background": "light"
     },
     "output_type": "display_data"
    },
    {
     "data": {
      "image/png": "[encoded data removed]",
      "text/plain": [
       "<Figure size 432x288 with 1 Axes>"
      ]
     },
     "metadata": {
      "needs_background": "light"
     },
     "output_type": "display_data"
    },
    {
     "data": {
      "image/png": "[encoded data removed]",
      "text/plain": [
       "<Figure size 432x288 with 1 Axes>"
      ]
     },
     "metadata": {
      "needs_background": "light"
     },
     "output_type": "display_data"
    },
    {
     "name": "stdout",
     "output_type": "stream",
     "text": [
      "testing accuracy: 0.9420\n",
      "predicted labels:  [tensor([6, 3, 7, 4]), tensor([0, 1, 8, 2]), tensor([5, 4, 6, 6]), tensor([6, 8, 4, 0]), tensor([1, 3, 0, 6]), tensor([4, 7, 5, 2]), tensor([2, 3, 2, 3]), tensor([4, 4, 3, 9]), tensor([0, 1, 2, 3]), tensor([1, 2, 3, 4])]\n",
      "actual labels:  [tensor([6, 3, 7, 4]), tensor([0, 1, 8, 2]), tensor([5, 4, 6, 6]), tensor([6, 8, 4, 0]), tensor([1, 3, 9, 6]), tensor([4, 7, 5, 2]), tensor([2, 3, 2, 3]), tensor([4, 4, 3, 9]), tensor([0, 1, 2, 3]), tensor([1, 2, 3, 4])]\n"
     ]
    }
   ],
   "source": [
    "MLP_model = torch.load('../Desktop/MLP_model.pt') #load the model that we saved for the best epoch\n",
    "MLP_model.eval() #evaluate the model\n",
    "\n",
    "correct = 0 #initialize number correct to 0\n",
    "total = 0 #initialize total to 0\n",
    "random_digits = random.sample(range(0, len(testloader)), 10) #generate 10 UNIQUE random digits for getting 10 random images\n",
    "counter = 0 #see if counter == a number in random_digits\n",
    "random_predicted = [] #list of predicted values for the 10 random images\n",
    "random_labels = [] #list of correct labels for the 10 random images\n",
    "\n",
    "with torch.no_grad(): #allow the weights to have no gradients, otherwise causes error in backpropagation\n",
    "    for data in testloader: #compute accuracy on testing data\n",
    "        images, labels = data #our data consists of (images, labels)\n",
    "        #Variable class is a wrapper over torch Tensors and is necessary for PyTorch to forward propogate\n",
    "        images = Variable(images.contiguous().view(-1, 784)) #reshape images to work with model class\n",
    "        outputs = MLP_model(images) #get outputs from our model from forward prop\n",
    "        _, predicted = torch.max(outputs.data, 1) #make a prediction based on outputs\n",
    "        total += labels.size(0) #total number of labels\n",
    "        correct += (predicted == labels).sum().item() #total number of correct predictions\n",
    "        if counter in random_digits: #check to see if our counter is in the random_digits list we created\n",
    "            random_predicted.append(predicted) #add the respective image's predicted value to our predicted list\n",
    "            random_labels.append(labels) #add the respective image's actual value to our labels list\n",
    "            plt.imshow(images.reshape((56,56))) #shape of the image is 56,56 and needs to be reshaped to be shown\n",
    "            plt.axis(\"off\")\n",
    "            plt.show()\n",
    "        counter += 1 #increment counter\n",
    "        \n",
    "accuracy = correct/total #accuracy is the number correctly predicted divided by total number of labels\n",
    "print('testing accuracy: %.4f' % accuracy)\n",
    "print('predicted labels: ', random_predicted)\n",
    "print('actual labels: ', random_labels)"
   ]
  },
  {
   "cell_type": "markdown",
   "metadata": {},
   "source": [
    "### 3) CNN"
   ]
  },
  {
   "cell_type": "code",
   "execution_count": 14,
   "metadata": {},
   "outputs": [],
   "source": [
    "#get the train, test, and validation sets for pytorch using MNIST\n",
    "transform = transforms.ToTensor()\n",
    "dataset = torchvision.datasets.MNIST(root='./data', train=True, download=True, transform=transform) #here we initialize the mnist training set (to be split up later)\n",
    "#split the dataset (originally train) into train and validation sets, 75/25\n",
    "train_size = int(0.75*len(dataset))\n",
    "val_size = int(0.25*len(dataset))\n",
    "trainset, valset = torch.utils.data.random_split(dataset, [train_size, val_size]) #here we initialize train and validation sets\n",
    "testset = torchvision.datasets.MNIST(root='./data', train=False, download=True, transform=transform) #here we initialize the mnist test set"
   ]
  },
  {
   "cell_type": "code",
   "execution_count": 15,
   "metadata": {},
   "outputs": [],
   "source": [
    "#Step 1: Load and prepare dataset\n",
    "trainloader = torch.utils.data.DataLoader(trainset, batch_size=4, shuffle=True)\n",
    "testloader = torch.utils.data.DataLoader(testset, batch_size=4, shuffle=False)\n",
    "valloader = torch.utils.data.DataLoader(testset, batch_size=4)"
   ]
  },
  {
   "cell_type": "code",
   "execution_count": 16,
   "metadata": {},
   "outputs": [],
   "source": [
    "#Step 2: Define a model\n",
    "class CNN(nn.Module):\n",
    "    #2 convolutional layers, 1 pooling layer, 3 fully connected layers\n",
    "    def __init__(self):\n",
    "        super(CNN, self).__init__() #super calls the __init__ method of the parent class, here nn.Module\n",
    "        self.conv1 = nn.Conv2d(1, 16, kernel_size = 3, padding = 1) #create our first convolutional layer, call on 1-channel images and input of size 16, padding = (kernel_size - 1)/2\n",
    "        self.pool = nn.MaxPool2d(2, 2) #create our pooling layer, do max pooling, with kernel=2x2\n",
    "        self.conv2 = nn.Conv2d(16, 32, kernel_size = 3, padding = 1) #create our second convolutional layer, take in 16 units, output 32, padding = (kernel_size - 1)/2\n",
    "        #here we make our 3 fully connected layers\n",
    "        self.fc1 = nn.Linear(32*7*7, 120) #first fully connected layer, the size of our data is 32*7*7, output is 120 which we pass into fc2\n",
    "        self.fc2 = nn.Linear(120, 84) #second fully connected layer, take in 120 from fc1 above, output is 84 which we pass into fc3\n",
    "        self.fc3 = nn.Linear(84, 10) #third fully connected layer, take in 84 from fc2 above, lastly output size is 10\n",
    "\n",
    "    def forward(self, x):\n",
    "        #with F, we can apply activation functions, so we must use it for relu\n",
    "        output = self.pool(F.relu(self.conv1(x))) #max pooling on the relu-activated first convolutional layer\n",
    "        output = self.pool(F.relu(self.conv2(output))) #max pooling on the relu-activated second convolutional layer\n",
    "        output = output.view(output.size(0), -1) #this correctly reshapes output before pushing into fully connected layers\n",
    "        #3 fully connected layers\n",
    "        output = F.relu(self.fc1(output)) #relu-activate the first fully connected layer\n",
    "        output = F.relu(self.fc2(output)) #relu-activate the second fully connected layer\n",
    "        output = self.fc3(output) #our result is the third and last fully connected layer\n",
    "        return output\n",
    "    \n",
    "\n",
    "CNN_model = CNN()"
   ]
  },
  {
   "cell_type": "code",
   "execution_count": 17,
   "metadata": {},
   "outputs": [],
   "source": [
    "#Step 3: Define training options\n",
    "criterion = nn.CrossEntropyLoss() #compute softmax cross entropy loss\n",
    "optimizer = optim.SGD(CNN_model.parameters(), lr=0.001, momentum=0.9) #use stochastic gradient descent as our learning algorithm"
   ]
  },
  {
   "cell_type": "markdown",
   "metadata": {},
   "source": [
    "#### Training the network and evaluating accuracy"
   ]
  },
  {
   "cell_type": "code",
   "execution_count": 18,
   "metadata": {},
   "outputs": [
    {
     "name": "stdout",
     "output_type": "stream",
     "text": [
      "epoch:  1 training loss:  0.404280606787063\n",
      "epoch:  1 validation loss: 0.08446367767971205\n",
      "epoch:  1 validation accuracy: 0.9724\n",
      "epoch:  2 training loss:  0.07686176406611597\n",
      "epoch:  2 validation loss: 0.04861722118781721\n",
      "epoch:  2 validation accuracy: 0.9865\n",
      "epoch:  3 training loss:  0.05289938869103615\n",
      "epoch:  3 validation loss: 0.03258879251042179\n",
      "epoch:  3 validation accuracy: 0.9907\n",
      "epoch:  4 training loss:  0.0399095026800167\n",
      "epoch:  4 validation loss: 0.025617241003121093\n",
      "epoch:  4 validation accuracy: 0.9937\n",
      "epoch:  5 training loss:  0.031146325099464033\n",
      "epoch:  5 validation loss: 0.018416127350402673\n",
      "epoch:  5 validation accuracy: 0.9932\n",
      "epoch:  6 training loss:  0.025613950806762275\n",
      "epoch:  6 validation loss: 0.014532454504289208\n",
      "epoch:  6 validation accuracy: 0.9960\n",
      "epoch:  7 training loss:  0.02110031352251652\n",
      "epoch:  7 validation loss: 0.01046801366050395\n",
      "epoch:  7 validation accuracy: 0.9991\n",
      "epoch:  8 training loss:  0.01690522446382767\n",
      "epoch:  8 validation loss: 0.008513494562781857\n",
      "epoch:  8 validation accuracy: 0.9980\n",
      "epoch:  9 training loss:  0.014277592305952942\n",
      "epoch:  9 validation loss: 0.007078655133154805\n",
      "epoch:  9 validation accuracy: 0.9996\n",
      "epoch:  10 training loss:  0.011408046363256109\n",
      "epoch:  10 validation loss: 0.006480817412338652\n",
      "epoch:  10 validation accuracy: 0.9966\n",
      "FINISHED TRAINING\n",
      "best epoch for this model:  10\n"
     ]
    }
   ],
   "source": [
    "#Step 4: Train the network\n",
    "best_val_loss = 1 #for keeping track of best accuracy across all epochs\n",
    "best_epoch = 1 #for keeping track of the best epoch based on validation loss\n",
    "\n",
    "for epoch in range(10): #let's do 10 epochs\n",
    "    \n",
    "    train_loss_per_epoch = [] #keep a list of the losses for each epoch, then take the average loss for one epoch\n",
    "    validation_loss = [] #keep a running list of the losses on the validation data\n",
    "    running_loss = 0.0 #initialize loss to 0\n",
    "    \n",
    "    for i, data in enumerate(trainloader): #go through each image/label in the training data\n",
    "        images, labels = data #our data consists of (images, labels)\n",
    "        optimizer.zero_grad() #zero the parameter gradients\n",
    "        outputs = CNN_model(images) #get outputs from our model from forward prop\n",
    "        loss = criterion(outputs, labels) #calculate loss\n",
    "        loss.backward() #backpropogate, computes the gradients\n",
    "        optimizer.step() #optimize\n",
    "        \n",
    "        #print stats\n",
    "        running_loss += loss.item() #add up losses\n",
    "        if i % 128 == 127: #print every mini-batch of size 128\n",
    "            train_loss_per_epoch.append(running_loss/128)\n",
    "            running_loss = 0.0 #reset loss\n",
    "            \n",
    "    print('epoch: ', epoch + 1, 'training loss: ', sum(train_loss_per_epoch)/len(train_loss_per_epoch))\n",
    "            \n",
    "    #run the validation set through the network, check for loss and accuracy\n",
    "    for i, data in enumerate(valloader): #go through each image/label in the validation data\n",
    "        images, labels = data #our data consists of (images, labels)\n",
    "        optimizer.zero_grad() #zero the parameter gradients\n",
    "        outputs = CNN_model(images) #get outputs from our model from forward prop\n",
    "        loss = criterion(outputs, labels) #calculate loss\n",
    "        #calculate gradient of matrix\n",
    "        loss.backward() #backpropogate\n",
    "        #apply gradient from last step to matrix\n",
    "        optimizer.step() #optimize\n",
    "        \n",
    "        running_loss += loss.item() #add up losses\n",
    "            \n",
    "    val_loss = running_loss/len(valloader) #divide running loss by the length of valloader to get the average loss\n",
    "    print('epoch: ', epoch + 1, 'validation loss:', val_loss) #we run on entire set, not in mini-batches\n",
    "    \n",
    "    if val_loss < best_val_loss: #check which epoch is best based on lowest validation loss\n",
    "        torch.save(CNN_model, '../Desktop/CNN_model.pt') #save the model\n",
    "        best_val_loss = val_loss #save the new best (lowest) loss\n",
    "        best_epoch = epoch + 1 #save the best epoch\n",
    "    \n",
    "#Step 5: Evaluate the network\n",
    "    correct = 0 #initialize number correct to 0\n",
    "    total = 0 #initialize total to 0\n",
    "\n",
    "    with torch.no_grad(): #allow the weights to have no gradients, otherwise causes error in backpropagation\n",
    "        for data in valloader: #compute accuracy on validation data\n",
    "            images, labels = data #our data consists of (images, labels)\n",
    "            outputs = CNN_model(images) #run forward prop to get the outputs\n",
    "            _, predicted = torch.max(outputs.data, 1) #make a prediction based on outputs\n",
    "            total += labels.size(0) #total number of labels\n",
    "            correct += (predicted == labels).sum().item() #total number of correct predictions\n",
    "\n",
    "    accuracy = correct/total #accuracy is the number correctly predicted divided by total number of labels\n",
    "    print('epoch: ', epoch + 1, 'validation accuracy: %.4f' % accuracy)\n",
    "        \n",
    "            \n",
    "print('FINISHED TRAINING')\n",
    "print('best epoch for this model: ', best_epoch)"
   ]
  },
  {
   "cell_type": "markdown",
   "metadata": {},
   "source": [
    "#### Parts d, g) Now that we know our best epoch for this model, we'll load the model and run our test data on that. Then we'll plot 10 randomly selected digits and report their predicted and actual labels."
   ]
  },
  {
   "cell_type": "code",
   "execution_count": 19,
   "metadata": {},
   "outputs": [
    {
     "data": {
      "image/png": "[encoded data removed]",
      "text/plain": [
       "<Figure size 432x288 with 1 Axes>"
      ]
     },
     "metadata": {
      "needs_background": "light"
     },
     "output_type": "display_data"
    },
    {
     "data": {
      "image/png": "[encoded data removed]",
      "text/plain": [
       "<Figure size 432x288 with 1 Axes>"
      ]
     },
     "metadata": {
      "needs_background": "light"
     },
     "output_type": "display_data"
    },
    {
     "data": {
      "image/png": "[encoded data removed]",
      "text/plain": [
       "<Figure size 432x288 with 1 Axes>"
      ]
     },
     "metadata": {
      "needs_background": "light"
     },
     "output_type": "display_data"
    },
    {
     "data": {
      "image/png": "[encoded data removed]",
      "text/plain": [
       "<Figure size 432x288 with 1 Axes>"
      ]
     },
     "metadata": {
      "needs_background": "light"
     },
     "output_type": "display_data"
    },
    {
     "data": {
      "image/png": "[encoded data removed]",
      "text/plain": [
       "<Figure size 432x288 with 1 Axes>"
      ]
     },
     "metadata": {
      "needs_background": "light"
     },
     "output_type": "display_data"
    },
    {
     "data": {
      "image/png": "[encoded data removed]",
      "text/plain": [
       "<Figure size 432x288 with 1 Axes>"
      ]
     },
     "metadata": {
      "needs_background": "light"
     },
     "output_type": "display_data"
    },
    {
     "data": {
      "image/png": "[encoded data removed]",
      "text/plain": [
       "<Figure size 432x288 with 1 Axes>"
      ]
     },
     "metadata": {
      "needs_background": "light"
     },
     "output_type": "display_data"
    },
    {
     "data": {
      "image/png": "[encoded data removed]",
      "text/plain": [
       "<Figure size 432x288 with 1 Axes>"
      ]
     },
     "metadata": {
      "needs_background": "light"
     },
     "output_type": "display_data"
    },
    {
     "data": {
      "image/png": "[encoded data removed]",
      "text/plain": [
       "<Figure size 432x288 with 1 Axes>"
      ]
     },
     "metadata": {
      "needs_background": "light"
     },
     "output_type": "display_data"
    },
    {
     "data": {
      "image/png": "[encoded data removed]",
      "text/plain": [
       "<Figure size 432x288 with 1 Axes>"
      ]
     },
     "metadata": {
      "needs_background": "light"
     },
     "output_type": "display_data"
    },
    {
     "name": "stdout",
     "output_type": "stream",
     "text": [
      "testing accuracy: 0.9966\n",
      "predicted labels:  [tensor([3, 4, 7, 2]), tensor([6, 0, 3, 4]), tensor([3, 3, 0, 7]), tensor([6, 7, 6, 3]), tensor([9, 6, 9, 1]), tensor([7, 8, 9, 0]), tensor([5, 6, 5, 7]), tensor([3, 5, 6, 7]), tensor([4, 1, 2, 4]), tensor([7, 1, 3, 0])]\n",
      "actual labels:  [tensor([3, 4, 7, 2]), tensor([6, 0, 3, 4]), tensor([3, 3, 0, 7]), tensor([6, 7, 6, 3]), tensor([9, 6, 9, 1]), tensor([7, 8, 9, 0]), tensor([5, 6, 5, 7]), tensor([3, 5, 6, 7]), tensor([4, 1, 2, 4]), tensor([7, 1, 3, 0])]\n"
     ]
    }
   ],
   "source": [
    "CNN_model = torch.load('../Desktop/CNN_model.pt') #load the model that we saved for the best epoch\n",
    "CNN_model.eval() #evaluate the model\n",
    "\n",
    "correct = 0 #initialize number correct to 0\n",
    "total = 0 #initialize total to 0\n",
    "random_digits = random.sample(range(0, len(testloader)), 10) #generate 10 UNIQUE random digits for getting 10 random images\n",
    "counter = 0 #see if counter == a number in random_digits\n",
    "random_predicted = [] #list of predicted values for the 10 random images\n",
    "random_labels = [] #list of correct labels for the 10 random images\n",
    "\n",
    "with torch.no_grad(): #allow the weights to have no gradients, otherwise causes error in backpropagation\n",
    "    for data in testloader: #compute accuracy on testing data\n",
    "        images, labels = data #our data consists of (images, labels)\n",
    "        outputs = CNN_model(images) #run forward prop to get the outputs\n",
    "        _, predicted = torch.max(outputs.data, 1) #make a prediction based on outputs\n",
    "        total += labels.size(0) #total number of labels\n",
    "        correct += (predicted == labels).sum().item() #total number of correct predictions\n",
    "        if counter in random_digits: #check to see if our counter is in the random_digits list we created\n",
    "            random_predicted.append(predicted) #add the respective image's predicted value to our predicted list\n",
    "            random_labels.append(labels) #add the respective image's actual value to our labels list\n",
    "            plt.imshow(images.reshape((56,56))) #shape of the image is 56,56 and needs to be reshaped to be shown\n",
    "            plt.axis(\"off\")\n",
    "            plt.show()\n",
    "        counter += 1 #increment counter\n",
    "        \n",
    "accuracy = correct/total #accuracy is the number correctly predicted divided by total number of labels\n",
    "print('testing accuracy: %.4f' % accuracy)\n",
    "print('predicted labels: ', random_predicted)\n",
    "print('actual labels: ', random_labels)"
   ]
  },
  {
   "cell_type": "markdown",
   "metadata": {},
   "source": [
    "#### Great accuracy!"
   ]
  }
 ],
 "metadata": {
  "kernelspec": {
   "display_name": "Python 3",
   "language": "python",
   "name": "python3"
  },
  "language_info": {
   "codemirror_mode": {
    "name": "ipython",
    "version": 3
   },
   "file_extension": ".py",
   "mimetype": "text/x-python",
   "name": "python",
   "nbconvert_exporter": "python",
   "pygments_lexer": "ipython3",
   "version": "3.7.4"
  }
 },
 "nbformat": 4,
 "nbformat_minor": 2
}
